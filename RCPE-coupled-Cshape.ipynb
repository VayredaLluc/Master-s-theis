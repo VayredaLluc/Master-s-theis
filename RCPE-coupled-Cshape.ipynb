{
 "cells": [
  {
   "cell_type": "code",
   "execution_count": 1,
   "id": "f6e2072e",
   "metadata": {},
   "outputs": [],
   "source": [
    "from moist_konrad_Cshape import *\n",
    "from rce2forcing import *\n",
    "import matplotlib.pyplot as plt\n",
    "import numpy as np\n",
    "from scipy.stats import linregress"
   ]
  },
  {
   "cell_type": "code",
   "execution_count": 2,
   "id": "9b19313e",
   "metadata": {},
   "outputs": [],
   "source": [
    "#This is the first test of coupling, I couple the RCE state of the atmosphere with \n",
    "\n",
    "\n",
    "results_file = open(\"results-Cshape-1.txt\",'w')\n",
    "temp_file = open(\"temp_Cshape-1.txt\",'w')\n",
    "water_file = open(\"water-Cshape-1.txt\",'w')"
   ]
  },
  {
   "cell_type": "code",
   "execution_count": 3,
   "id": "b06b9cad",
   "metadata": {},
   "outputs": [
    {
     "name": "stdout",
     "output_type": "stream",
     "text": [
      "[0.975]\n"
     ]
    }
   ],
   "source": [
    "cases = [1.]\n",
    "initial_temperatures = [270.]\n",
    "depths = [2.5]\n",
    "\n",
    "initial_rh = [0.6]\n",
    "\n",
    "RLS = 1/3\n",
    "\n",
    "solar_multiplier = [0.975]\n",
    "print(solar_multiplier)\n",
    "\n",
    "land_atm_coupling = True\n",
    "strong_coupling = True\n",
    "\n",
    "albedo_sfc = 0.2"
   ]
  },
  {
   "cell_type": "code",
   "execution_count": 4,
   "id": "064319d9",
   "metadata": {},
   "outputs": [
    {
     "name": "stdout",
     "output_type": "stream",
     "text": [
      "2.5 270.0 0.975 0.6\n",
      "[270.]\n",
      "[270.] 0.2\n",
      "[270.] 0.2\n",
      "100.5\n",
      "1296\n",
      "hehe\n",
      "0.6384205415705916 [0.0038669] [0.00337832] [288.1018036]\n",
      "CPU times: user 39.3 s, sys: 136 ms, total: 39.4 s\n",
      "Wall time: 39.4 s\n"
     ]
    }
   ],
   "source": [
    "%%time\n",
    "\n",
    "for k in range(len(solar_multiplier)):\n",
    "    for rhi in range(len(initial_rh)):\n",
    "        for de in range(len(depths)):\n",
    "            for te in range(len(initial_temperatures)):\n",
    "                print(depths[de],initial_temperatures[te],solar_multiplier[k],initial_rh[rhi])\n",
    "                ###PARAMETERS OF THE TEST:\n",
    "\n",
    "                #flux for efficiency computation:\n",
    "                # 1: LH + SH\n",
    "                # 2: Radiation surface\n",
    "                # 3: Atmosphere radiation\n",
    "                case = cases[0]\n",
    "                depth_d = depths[de]\n",
    "                ini_rh = initial_rh[rhi]\n",
    "\n",
    "\n",
    "                #coupled surface-atmosphere: \n",
    "                #if true, surface fluxes and surface temperature change at each step, constant otherwise\n",
    "                coupled = land_atm_coupling\n",
    "\n",
    "                SH_f = 15.\n",
    "                LH_f = 140.\n",
    "                Ts_f = np.array([initial_temperatures[te]])\n",
    "                print(Ts_f)\n",
    "\n",
    "                #Strong coupling surface-atmosphere:\n",
    "                #If true the atmosphere moist adiabat starts at surface temperature\n",
    "                #If false find the atmopsheric moist adiabat that conserves energy\n",
    "                strong = strong_coupling\n",
    "\n",
    "                popke = True\n",
    "                if popke == True:\n",
    "                    solar = 510. * solar_multiplier[k]\n",
    "                    angle = 47.9\n",
    "                else:\n",
    "                    solar = 480.* solar_multiplier[k]\n",
    "                    angle = 42.05\n",
    "\n",
    "                A = albedo_sfc\n",
    "\n",
    "                ### INITIALIZATION\n",
    "                E_imbalance = 0.\n",
    "\n",
    "                plev, phlev = konrad.utils.get_pressure_grids(1000e2, 100, 128)\n",
    "                atmosphere = konrad.atmosphere.Atmosphere(phlev)\n",
    "                clearsky = konrad.cloud.ClearSky.from_atmosphere(atmosphere)\n",
    "                surface = konrad.surface.SlabOcean(\n",
    "                    temperature=288,\n",
    "                    heat_sink=0,\n",
    "                    depth = depth_d,\n",
    "                    albedo = 0.5)\n",
    "\n",
    "                radiation = konrad.radiation.RRTMG(solar_constant=solar, zenith_angle = angle)\n",
    "\n",
    "                ndays = 10000\n",
    "                timestep = 0.5 #days\n",
    "                nsteps = int(ndays/timestep)\n",
    "\n",
    "                printcounter = 0\n",
    "                status = 0\n",
    "\n",
    "                tol = 1e-5\n",
    "\n",
    "                ### RCPE COMPUTATION\n",
    "\n",
    "                surface['temperature'] = Ts_f\n",
    "                surface.albedo = A\n",
    "                ini_T_atm = atmosphere['T'][0].copy()\n",
    "                \n",
    "                atmosphere['T'][0] = moist_adiabat(surface['temperature'],ini_T_atm,atmosphere)\n",
    "                print(surface['temperature'],surface.albedo)\n",
    "\n",
    "                conv_top = convective_top(atmosphere['T'][0],ini_T_atm,atmosphere['plev'])\n",
    "                RH = manabe_rh(ini_rh,atmosphere['plev'], conv_top)\n",
    "                atmosphere['H2O'][0] = rh_to_vmr(RH,atmosphere['T'][0],atmosphere['plev'],conv_top)\n",
    "                T_atm_low = surface['temperature']\n",
    "\n",
    "                print(surface['temperature'],surface.albedo)\n",
    "\n",
    "                #### RCE FOR PRESENT-DAY CO2\n",
    "                atmosphere['CO2'][0] = 348/1e6\n",
    "\n",
    "\n",
    "                T_sfc_1 = [1e8]\n",
    "                toa_1 = [1e8]\n",
    "                for i in range(nsteps):\n",
    "                    #surface fluxes\n",
    "                    z = height(atmosphere['plev'],atmosphere['T'][0],\n",
    "                               atmosphere['phlev'][0],surface['temperature'])\n",
    "\n",
    "\n",
    "                    T_ini,vmr_ini = atmosphere['T'][0][0].copy(),atmosphere['H2O'][0,0].copy()\n",
    "\n",
    "                    #compute the fluxes or input the forcing\n",
    "                    if coupled == True:\n",
    "                        LH = latent_heat(vmr_ini, T_ini,atmosphere['phlev'][0],RLS)\n",
    "                        SH = sensible_heat(T_ini,surface['temperature'],atmosphere['phlev'][0],RLS)\n",
    "\n",
    "                    else:\n",
    "                        LH = LH_f\n",
    "                        SH = SH_f\n",
    "\n",
    "\n",
    "                    #convective adjustment of the armosphere\n",
    "                    atmosphere,surface,radiation,net_rad_surface,atm_rad,sw_d,lw_d,\\\n",
    "                    T_atm_low,E_imbalance,prec_mass,prec_heating,\\\n",
    "                    RH,cold_point,prec_eff,water_content = RCPE_step_DSE(timestep,\n",
    "                                                          atmosphere,surface,radiation,clearsky,\n",
    "                                                          SH,LH,A,T_atm_low,\n",
    "                                                          strong_coupling = strong,\n",
    "                                                          constrain_RH = True,\n",
    "                                                        Flux_case = case)\n",
    "\n",
    "\n",
    "\n",
    "                    #update surface temperature with energetic fluxes (latent and radiative)\n",
    "                    if coupled == True:\n",
    "                        surface['temperature'] = surface['temperature'] + ((net_rad_surface - SH - LH)\n",
    "                                               * seconds_day * timestep / surface.heat_capacity)\n",
    "\n",
    "                    else:\n",
    "                        surface['temperature'] = Ts_f\n",
    "\n",
    "\n",
    "                    status += 1\n",
    "                    if printcounter == 200:\n",
    "                        print(status/2)\n",
    "                    printcounter += 1\n",
    "\n",
    "                    T_sfc_1.append(surface['temperature'])\n",
    "                    toa_1.append(radiation['toa'].copy())\n",
    "                    if abs(T_sfc_1[i]-T_sfc_1[i-1])<tol and abs(toa_1[i]-toa_1[i-1])<tol:\n",
    "                        print(i)\n",
    "                        break\n",
    "\n",
    "                print('hehe')\n",
    "                olr_rec = radiation['lw_flxu'][0,-1].copy() - radiation['lw_flxd'][0,-1].copy()\n",
    "                net_sw = radiation['sw_flxd'][0,-1].copy() - radiation['sw_flxu'][0,-1].copy()\n",
    "                isr_rec = radiation['sw_flxd'][0,-1].copy()\n",
    "                results_file.write(str(depth_d)+\" \"+str(case)+\" \"+str(Ts_f[0])\n",
    "                                   +\" \"+str(surface['temperature'][0])+\" \"+str(T_ini)\n",
    "                                   +\" \"+str(net_rad_surface)+\" \"+str(atm_rad)+\" \"+str(radiation['toa'][0])\n",
    "                                   +\" \"+str(olr_rec)+\" \"+str(net_sw)+\" \"+str(isr_rec)\n",
    "                                   +\" \"+str(E_imbalance[0])\n",
    "                                   +\" \"+str(sw_d)+\" \"+str(lw_d)\n",
    "                                   +\" \"+str(LH)+\" \"+str(SH[0])+\" \"+str(prec_eff[0])\n",
    "                                   +\" \"+str(prec_mass[0])+\" \"+str(LH/Lv * seconds_day)\n",
    "                                   +\" \"+str(RH[0])+\" \"+str(water_content[0])+\" \"+str(ini_rh)\n",
    "                                   +\" \"+str(atmosphere['CO2'][0][0])\n",
    "                                   +\"\\n\")\n",
    "\n",
    "                if de == 0 and te == 0:\n",
    "                    np.savetxt(temp_file,atmosphere['T'][0].reshape(1, -1).copy())\n",
    "                    np.savetxt(water_file,atmosphere['H2O'][0].reshape(1, -1).copy())\n",
    "\n",
    "                P1 = prec_mass\n",
    "                q1 = atmosphere['H2O'][0].copy()[0]\n",
    "                RH1 = RH[0]\n",
    "                \n",
    "                print(RH1, radiation['toa'], E_imbalance, surface['temperature'])"
   ]
  },
  {
   "cell_type": "code",
   "execution_count": 5,
   "id": "fef42ce1",
   "metadata": {},
   "outputs": [],
   "source": [
    "lrad_rce = lw_d\n",
    "srad_rce = sw_d\n",
    "rain_rce = prec_mass[0]\n",
    "rhum_rce = RH[0]\n",
    "tair_rce = T_ini\n",
    "\n",
    "write_forcing_files(lrad_rce, \n",
    "                    srad_rce, \n",
    "                    rain_rce, \n",
    "                    rhum_rce, \n",
    "                    tair_rce)"
   ]
  },
  {
   "cell_type": "code",
   "execution_count": 6,
   "id": "ad094ef1",
   "metadata": {},
   "outputs": [
    {
     "data": {
      "image/png": "[encoded data removed]",
      "text/plain": [
       "<Figure size 518.4x691.2 with 1 Axes>"
      ]
     },
     "metadata": {
      "needs_background": "light"
     },
     "output_type": "display_data"
    }
   ],
   "source": [
    "fig, ax = plt.subplots(figsize=(1.5*4.8, 1.5*6.4))\n",
    "\n",
    "p,ph = konrad.utils.get_pressure_grids(1000e2, 100, 128)\n",
    "\n",
    "ax.plot(atmosphere['T'][0], p/100,\n",
    "               alpha = 1, color = 'firebrick', lw = 1.5, label = 'CO$_2$ x 2, bright sun')\n",
    "\n",
    "\n",
    "ax.set_yscale('log')\n",
    "ax.yaxis.set_inverted(True)\n",
    "ax.set_xlabel('Temperature (K)')\n",
    "ax.set_ylabel('Pressure (hPa)')\n",
    "\n",
    "plt.legend()\n",
    "plt.show()"
   ]
  },
  {
   "cell_type": "code",
   "execution_count": 7,
   "id": "a6a06225",
   "metadata": {},
   "outputs": [
    {
     "data": {
      "image/png": "[encoded data removed]",
      "text/plain": [
       "<Figure size 518.4x691.2 with 1 Axes>"
      ]
     },
     "metadata": {
      "needs_background": "light"
     },
     "output_type": "display_data"
    }
   ],
   "source": [
    "fig, ax = plt.subplots(figsize=(1.5*4.8, 1.5*6.4))\n",
    "\n",
    "p,ph = konrad.utils.get_pressure_grids(1000e2, 100, 128)\n",
    "\n",
    "ax.plot(RH*100, p/100,\n",
    "               alpha = 1, color = 'firebrick', lw = 1.5, label = 'CO$_2$ x 2, bright sun')\n",
    "\n",
    "\n",
    "ax.set_yscale('log')\n",
    "ax.yaxis.set_inverted(True)\n",
    "ax.set_xlabel('RH')\n",
    "ax.set_ylabel('Pressure (hPa)')\n",
    "\n",
    "plt.legend()\n",
    "plt.show()"
   ]
  },
  {
   "cell_type": "code",
   "execution_count": 8,
   "id": "ccef3bf6",
   "metadata": {},
   "outputs": [
    {
     "ename": "NameError",
     "evalue": "name 'lambda_file' is not defined",
     "output_type": "error",
     "traceback": [
      "\u001b[0;31m---------------------------------------------------------------------------\u001b[0m",
      "\u001b[0;31mNameError\u001b[0m                                 Traceback (most recent call last)",
      "\u001b[0;32m<ipython-input-8-ba567454ae9c>\u001b[0m in \u001b[0;36m<module>\u001b[0;34m\u001b[0m\n\u001b[1;32m      2\u001b[0m \u001b[0mwater_file\u001b[0m\u001b[0;34m.\u001b[0m\u001b[0mclose\u001b[0m\u001b[0;34m(\u001b[0m\u001b[0;34m)\u001b[0m\u001b[0;34m\u001b[0m\u001b[0;34m\u001b[0m\u001b[0m\n\u001b[1;32m      3\u001b[0m \u001b[0mresults_file\u001b[0m\u001b[0;34m.\u001b[0m\u001b[0mclose\u001b[0m\u001b[0;34m(\u001b[0m\u001b[0;34m)\u001b[0m\u001b[0;34m\u001b[0m\u001b[0;34m\u001b[0m\u001b[0m\n\u001b[0;32m----> 4\u001b[0;31m \u001b[0mlambda_file\u001b[0m\u001b[0;34m.\u001b[0m\u001b[0mclose\u001b[0m\u001b[0;34m(\u001b[0m\u001b[0;34m)\u001b[0m\u001b[0;34m\u001b[0m\u001b[0;34m\u001b[0m\u001b[0m\n\u001b[0m",
      "\u001b[0;31mNameError\u001b[0m: name 'lambda_file' is not defined"
     ]
    }
   ],
   "source": [
    "temp_file.close()\n",
    "water_file.close()\n",
    "results_file.close()\n",
    "lambda_file.close()"
   ]
  },
  {
   "cell_type": "code",
   "execution_count": null,
   "id": "b3ee0084",
   "metadata": {},
   "outputs": [],
   "source": [
    "print(T_anom[200:,0])"
   ]
  },
  {
   "cell_type": "code",
   "execution_count": null,
   "id": "3b9e798a",
   "metadata": {},
   "outputs": [],
   "source": [
    "plt.scatter(T_anom[:,0], olr2[:], s = 2)\n",
    "plt.show()\n",
    "plt.scatter(T_anom[:,0], toa2[:,0], s = 5)\n",
    "plt.show()"
   ]
  },
  {
   "cell_type": "code",
   "execution_count": null,
   "id": "e910a3f1",
   "metadata": {},
   "outputs": [],
   "source": [
    "lambda_1 = linregress( T_anom[500:,0], toa2[500:,0]).slope\n",
    "lambda_2 = linregress( T_anom[500:,0], olr2[500:]).slope\n",
    "print(lambda_1,lambda_2)"
   ]
  },
  {
   "cell_type": "code",
   "execution_count": null,
   "id": "bf5545c6",
   "metadata": {},
   "outputs": [],
   "source": [
    "print(radiation['sw_flxd'][0,-1])"
   ]
  },
  {
   "cell_type": "code",
   "execution_count": null,
   "id": "90ec6883",
   "metadata": {},
   "outputs": [],
   "source": [
    "print(plev)\n",
    "print(phlev)\n",
    "print(z)"
   ]
  },
  {
   "cell_type": "code",
   "execution_count": null,
   "id": "d613260a",
   "metadata": {},
   "outputs": [],
   "source": []
  }
 ],
 "metadata": {
  "kernelspec": {
   "display_name": "Python 3",
   "language": "python",
   "name": "python3"
  },
  "language_info": {
   "codemirror_mode": {
    "name": "ipython",
    "version": 3
   },
   "file_extension": ".py",
   "mimetype": "text/x-python",
   "name": "python",
   "nbconvert_exporter": "python",
   "pygments_lexer": "ipython3",
   "version": "3.6.15"
  }
 },
 "nbformat": 4,
 "nbformat_minor": 5
}
